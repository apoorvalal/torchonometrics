{
 "cells": [
  {
   "cell_type": "markdown",
   "metadata": {},
   "source": [
    "# Maximum likelihood estimation via GMM"
   ]
  },
  {
   "cell_type": "code",
   "execution_count": 1,
   "metadata": {},
   "outputs": [],
   "source": [
    "import numpy as np\n",
    "import pandas as pd\n",
    "import matplotlib.pyplot as plt\n",
    "\n",
    "import statsmodels.api as sm\n",
    "import formulaic as fm\n",
    "\n",
    "from torchonometrics.gmm import GMMEstimator\n",
    "\n",
    "np.random.seed(94305)"
   ]
  },
  {
   "cell_type": "markdown",
   "metadata": {},
   "source": [
    "## OLS"
   ]
  },
  {
   "cell_type": "code",
   "execution_count": 2,
   "metadata": {},
   "outputs": [],
   "source": [
    "# simulate some data for for the linear probability model\n",
    "n = 1000\n",
    "p = 2\n",
    "X = np.random.normal(size=(n, p))\n",
    "X = sm.add_constant(X)\n",
    "beta = np.array([0.5, -0.5, 0.5])\n",
    "y = np.random.binomial(1, 1 / (1 + np.exp(-X @ beta)))"
   ]
  },
  {
   "cell_type": "code",
   "execution_count": 3,
   "metadata": {},
   "outputs": [
    {
     "name": "stdout",
     "output_type": "stream",
     "text": [
      "Parameters:  [ 0.60326474 -0.11124768  0.11141277]\n"
     ]
    }
   ],
   "source": [
    "lpm_mod = sm.OLS(y, X)\n",
    "lpm_res = lpm_mod.fit()\n",
    "print(\"Parameters: \", lpm_res.params)"
   ]
  },
  {
   "cell_type": "code",
   "execution_count": 4,
   "metadata": {},
   "outputs": [
    {
     "data": {
      "text/html": [
       "<div>\n",
       "<style scoped>\n",
       "    .dataframe tbody tr th:only-of-type {\n",
       "        vertical-align: middle;\n",
       "    }\n",
       "\n",
       "    .dataframe tbody tr th {\n",
       "        vertical-align: top;\n",
       "    }\n",
       "\n",
       "    .dataframe thead th {\n",
       "        text-align: right;\n",
       "    }\n",
       "</style>\n",
       "<table border=\"1\" class=\"dataframe\">\n",
       "  <thead>\n",
       "    <tr style=\"text-align: right;\">\n",
       "      <th></th>\n",
       "      <th>coef</th>\n",
       "      <th>std err</th>\n",
       "      <th>t</th>\n",
       "      <th>p-value</th>\n",
       "      <th>[0.025</th>\n",
       "      <th>0.975]</th>\n",
       "    </tr>\n",
       "  </thead>\n",
       "  <tbody>\n",
       "    <tr>\n",
       "      <th>0</th>\n",
       "      <td>0.6033</td>\n",
       "      <td>0.0317</td>\n",
       "      <td>19.0085</td>\n",
       "      <td>0.0000</td>\n",
       "      <td>0.5411</td>\n",
       "      <td>0.6655</td>\n",
       "    </tr>\n",
       "    <tr>\n",
       "      <th>1</th>\n",
       "      <td>-0.1112</td>\n",
       "      <td>0.0348</td>\n",
       "      <td>-3.1953</td>\n",
       "      <td>0.0014</td>\n",
       "      <td>-0.1795</td>\n",
       "      <td>-0.0430</td>\n",
       "    </tr>\n",
       "    <tr>\n",
       "      <th>2</th>\n",
       "      <td>0.1114</td>\n",
       "      <td>0.0310</td>\n",
       "      <td>3.5931</td>\n",
       "      <td>0.0003</td>\n",
       "      <td>0.0506</td>\n",
       "      <td>0.1722</td>\n",
       "    </tr>\n",
       "  </tbody>\n",
       "</table>\n",
       "</div>"
      ],
      "text/plain": [
       "     coef  std err        t  p-value  [0.025  0.975]\n",
       "0  0.6033   0.0317  19.0085   0.0000  0.5411  0.6655\n",
       "1 -0.1112   0.0348  -3.1953   0.0014 -0.1795 -0.0430\n",
       "2  0.1114   0.0310   3.5931   0.0003  0.0506  0.1722"
      ]
     },
     "execution_count": 4,
     "metadata": {},
     "output_type": "execute_result"
    }
   ],
   "source": [
    "Z = X.copy()\n",
    "\n",
    "ψ = lambda z, y, x, beta: z * (y - x @ beta)[:, np.newaxis]\n",
    "gmm = GMMEstimator(ψ, weighting_matrix=None, backend = \"scipy\")\n",
    "gmm.fit(Z, y, X)\n",
    "gmm.summary()"
   ]
  },
  {
   "cell_type": "markdown",
   "metadata": {},
   "source": [
    "## Logit"
   ]
  },
  {
   "cell_type": "code",
   "execution_count": 5,
   "metadata": {},
   "outputs": [
    {
     "name": "stdout",
     "output_type": "stream",
     "text": [
      "Parameters:  [ 0.47180703 -0.53023967  0.5246359 ]\n"
     ]
    }
   ],
   "source": [
    "logit_mod = sm.Logit(y, X)\n",
    "logit_res = logit_mod.fit(disp=0)\n",
    "print(\"Parameters: \", logit_res.params)"
   ]
  },
  {
   "cell_type": "markdown",
   "metadata": {},
   "source": [
    "Moment condition:\n",
    "\n",
    "$$\n",
    "\\mathbb{E} \\left[ \\left( y_i - \\frac{1}{1 + \\exp(-x_i' \\beta)} \\right) x_i \\right] = 0\n",
    "$$"
   ]
  },
  {
   "cell_type": "code",
   "execution_count": 6,
   "metadata": {},
   "outputs": [
    {
     "data": {
      "text/html": [
       "<div>\n",
       "<style scoped>\n",
       "    .dataframe tbody tr th:only-of-type {\n",
       "        vertical-align: middle;\n",
       "    }\n",
       "\n",
       "    .dataframe tbody tr th {\n",
       "        vertical-align: top;\n",
       "    }\n",
       "\n",
       "    .dataframe thead th {\n",
       "        text-align: right;\n",
       "    }\n",
       "</style>\n",
       "<table border=\"1\" class=\"dataframe\">\n",
       "  <thead>\n",
       "    <tr style=\"text-align: right;\">\n",
       "      <th></th>\n",
       "      <th>coef</th>\n",
       "      <th>std err</th>\n",
       "      <th>t</th>\n",
       "      <th>p-value</th>\n",
       "      <th>[0.025</th>\n",
       "      <th>0.975]</th>\n",
       "    </tr>\n",
       "  </thead>\n",
       "  <tbody>\n",
       "    <tr>\n",
       "      <th>0</th>\n",
       "      <td>0.4718</td>\n",
       "      <td>0.0147</td>\n",
       "      <td>32.1379</td>\n",
       "      <td>0.0</td>\n",
       "      <td>0.4430</td>\n",
       "      <td>0.5006</td>\n",
       "    </tr>\n",
       "    <tr>\n",
       "      <th>1</th>\n",
       "      <td>-0.5302</td>\n",
       "      <td>0.0142</td>\n",
       "      <td>-37.2980</td>\n",
       "      <td>0.0</td>\n",
       "      <td>-0.5581</td>\n",
       "      <td>-0.5024</td>\n",
       "    </tr>\n",
       "    <tr>\n",
       "      <th>2</th>\n",
       "      <td>0.5246</td>\n",
       "      <td>0.0140</td>\n",
       "      <td>37.5623</td>\n",
       "      <td>0.0</td>\n",
       "      <td>0.4973</td>\n",
       "      <td>0.5520</td>\n",
       "    </tr>\n",
       "  </tbody>\n",
       "</table>\n",
       "</div>"
      ],
      "text/plain": [
       "     coef  std err        t  p-value  [0.025  0.975]\n",
       "0  0.4718   0.0147  32.1379      0.0  0.4430  0.5006\n",
       "1 -0.5302   0.0142 -37.2980      0.0 -0.5581 -0.5024\n",
       "2  0.5246   0.0140  37.5623      0.0  0.4973  0.5520"
      ]
     },
     "execution_count": 6,
     "metadata": {},
     "output_type": "execute_result"
    }
   ],
   "source": [
    "from scipy.special import expit\n",
    "ψ_logit = lambda z, y, x, beta: z * (y - expit(x @ beta))[:, np.newaxis]\n",
    "\n",
    "gmm = GMMEstimator(ψ_logit)\n",
    "gmm.fit(Z, y, X)\n",
    "gmm.summary()\n"
   ]
  },
  {
   "cell_type": "markdown",
   "metadata": {},
   "source": [
    "Identical"
   ]
  },
  {
   "cell_type": "markdown",
   "metadata": {},
   "source": [
    "## Probit"
   ]
  },
  {
   "cell_type": "code",
   "execution_count": 7,
   "metadata": {},
   "outputs": [],
   "source": [
    "from scipy.stats import norm\n",
    "# simulate some data for probit\n",
    "n, p = 1000, 2\n",
    "X = np.random.normal(size=(n, p))\n",
    "X = sm.add_constant(X)\n",
    "beta = np.array([0.5, -0.5, 0.5])\n",
    "y = np.random.binomial(1, norm.cdf(X @ beta))\n",
    "Z = X.copy()"
   ]
  },
  {
   "cell_type": "code",
   "execution_count": 8,
   "metadata": {},
   "outputs": [
    {
     "name": "stdout",
     "output_type": "stream",
     "text": [
      "Parameters:  [ 0.40832656 -0.4338381   0.57521853]\n"
     ]
    }
   ],
   "source": [
    "probit_mod = sm.Probit(y, X)\n",
    "probit_res = probit_mod.fit(disp=0)\n",
    "print(\"Parameters: \", probit_res.params)"
   ]
  },
  {
   "cell_type": "markdown",
   "metadata": {},
   "source": [
    "Moment condition\n",
    "$$\n",
    "\\mathbb{E} \\left[ \\left( y_i - \\Phi(x_i' \\beta) \\right) x_i \\right] = 0\n",
    "$$"
   ]
  },
  {
   "cell_type": "code",
   "execution_count": 9,
   "metadata": {},
   "outputs": [
    {
     "data": {
      "text/html": [
       "<div>\n",
       "<style scoped>\n",
       "    .dataframe tbody tr th:only-of-type {\n",
       "        vertical-align: middle;\n",
       "    }\n",
       "\n",
       "    .dataframe tbody tr th {\n",
       "        vertical-align: top;\n",
       "    }\n",
       "\n",
       "    .dataframe thead th {\n",
       "        text-align: right;\n",
       "    }\n",
       "</style>\n",
       "<table border=\"1\" class=\"dataframe\">\n",
       "  <thead>\n",
       "    <tr style=\"text-align: right;\">\n",
       "      <th></th>\n",
       "      <th>coef</th>\n",
       "      <th>std err</th>\n",
       "      <th>t</th>\n",
       "      <th>p-value</th>\n",
       "      <th>[0.025</th>\n",
       "      <th>0.975]</th>\n",
       "    </tr>\n",
       "  </thead>\n",
       "  <tbody>\n",
       "    <tr>\n",
       "      <th>0</th>\n",
       "      <td>0.4053</td>\n",
       "      <td>0.0135</td>\n",
       "      <td>29.9285</td>\n",
       "      <td>0.0</td>\n",
       "      <td>0.3788</td>\n",
       "      <td>0.4319</td>\n",
       "    </tr>\n",
       "    <tr>\n",
       "      <th>1</th>\n",
       "      <td>-0.4350</td>\n",
       "      <td>0.0125</td>\n",
       "      <td>-34.7007</td>\n",
       "      <td>0.0</td>\n",
       "      <td>-0.4595</td>\n",
       "      <td>-0.4104</td>\n",
       "    </tr>\n",
       "    <tr>\n",
       "      <th>2</th>\n",
       "      <td>0.5740</td>\n",
       "      <td>0.0125</td>\n",
       "      <td>45.8407</td>\n",
       "      <td>0.0</td>\n",
       "      <td>0.5494</td>\n",
       "      <td>0.5985</td>\n",
       "    </tr>\n",
       "  </tbody>\n",
       "</table>\n",
       "</div>"
      ],
      "text/plain": [
       "     coef  std err        t  p-value  [0.025  0.975]\n",
       "0  0.4053   0.0135  29.9285      0.0  0.3788  0.4319\n",
       "1 -0.4350   0.0125 -34.7007      0.0 -0.4595 -0.4104\n",
       "2  0.5740   0.0125  45.8407      0.0  0.5494  0.5985"
      ]
     },
     "execution_count": 9,
     "metadata": {},
     "output_type": "execute_result"
    }
   ],
   "source": [
    "ψ_probit = lambda z, y, x, beta: z * (y - norm.cdf(x @ beta))[:, np.newaxis]\n",
    "gmm = GMMEstimator(ψ_probit)\n",
    "gmm.fit(Z, y, X)\n",
    "gmm.summary()"
   ]
  },
  {
   "cell_type": "markdown",
   "metadata": {},
   "source": [
    "## Poisson"
   ]
  },
  {
   "cell_type": "code",
   "execution_count": 10,
   "metadata": {},
   "outputs": [],
   "source": [
    "# poisson dgp\n",
    "n, p = 1000, 2\n",
    "X = np.random.normal(size=(n, p))\n",
    "X = sm.add_constant(X)\n",
    "beta = np.array([0.5, -0.5, 0.5])\n",
    "y = np.random.poisson(np.exp(X @ beta))\n",
    "\n",
    "Z = X.copy()"
   ]
  },
  {
   "cell_type": "code",
   "execution_count": 11,
   "metadata": {},
   "outputs": [
    {
     "name": "stdout",
     "output_type": "stream",
     "text": [
      "Parameters:  [ 0.51970481 -0.45115562  0.48937347]\n"
     ]
    }
   ],
   "source": [
    "poisson_mod = sm.GLM(y, X, family=sm.families.Poisson())\n",
    "poisson_res = poisson_mod.fit()\n",
    "print(\"Parameters: \", poisson_res.params)"
   ]
  },
  {
   "cell_type": "code",
   "execution_count": 12,
   "metadata": {},
   "outputs": [
    {
     "data": {
      "text/html": [
       "<div>\n",
       "<style scoped>\n",
       "    .dataframe tbody tr th:only-of-type {\n",
       "        vertical-align: middle;\n",
       "    }\n",
       "\n",
       "    .dataframe tbody tr th {\n",
       "        vertical-align: top;\n",
       "    }\n",
       "\n",
       "    .dataframe thead th {\n",
       "        text-align: right;\n",
       "    }\n",
       "</style>\n",
       "<table border=\"1\" class=\"dataframe\">\n",
       "  <thead>\n",
       "    <tr style=\"text-align: right;\">\n",
       "      <th></th>\n",
       "      <th>coef</th>\n",
       "      <th>std err</th>\n",
       "      <th>t</th>\n",
       "      <th>p-value</th>\n",
       "      <th>[0.025</th>\n",
       "      <th>0.975]</th>\n",
       "    </tr>\n",
       "  </thead>\n",
       "  <tbody>\n",
       "    <tr>\n",
       "      <th>0</th>\n",
       "      <td>0.5197</td>\n",
       "      <td>0.0317</td>\n",
       "      <td>16.3937</td>\n",
       "      <td>0.0</td>\n",
       "      <td>0.4576</td>\n",
       "      <td>0.5818</td>\n",
       "    </tr>\n",
       "    <tr>\n",
       "      <th>1</th>\n",
       "      <td>-0.4512</td>\n",
       "      <td>0.0317</td>\n",
       "      <td>-14.2394</td>\n",
       "      <td>0.0</td>\n",
       "      <td>-0.5133</td>\n",
       "      <td>-0.3891</td>\n",
       "    </tr>\n",
       "    <tr>\n",
       "      <th>2</th>\n",
       "      <td>0.4894</td>\n",
       "      <td>0.0319</td>\n",
       "      <td>15.3319</td>\n",
       "      <td>0.0</td>\n",
       "      <td>0.4268</td>\n",
       "      <td>0.5519</td>\n",
       "    </tr>\n",
       "  </tbody>\n",
       "</table>\n",
       "</div>"
      ],
      "text/plain": [
       "     coef  std err        t  p-value  [0.025  0.975]\n",
       "0  0.5197   0.0317  16.3937      0.0  0.4576  0.5818\n",
       "1 -0.4512   0.0317 -14.2394      0.0 -0.5133 -0.3891\n",
       "2  0.4894   0.0319  15.3319      0.0  0.4268  0.5519"
      ]
     },
     "execution_count": 12,
     "metadata": {},
     "output_type": "execute_result"
    }
   ],
   "source": [
    "ψ_poisson = lambda z, y, x, beta: z * (y - np.exp(x @ beta))[:, np.newaxis]\n",
    "m = GMMEstimator(ψ_poisson, weighting_matrix=None, backend = \"scipy\")\n",
    "m.fit(Z, y, X)\n",
    "m.summary()"
   ]
  }
 ],
 "metadata": {
  "kernelspec": {
   "display_name": ".venv",
   "language": "python",
   "name": "python3"
  },
  "language_info": {
   "codemirror_mode": {
    "name": "ipython",
    "version": 3
   },
   "file_extension": ".py",
   "mimetype": "text/x-python",
   "name": "python",
   "nbconvert_exporter": "python",
   "pygments_lexer": "ipython3",
   "version": "3.12.9"
  }
 },
 "nbformat": 4,
 "nbformat_minor": 2
}
