{
 "cells": [
  {
   "cell_type": "code",
   "execution_count": 1,
   "id": "bc3875f2",
   "metadata": {},
   "outputs": [],
   "source": [
    "import torch\n",
    "import numpy as np\n",
    "\n",
    "from torchonometrics.linear import LinearRegression\n",
    "from torchonometrics.mle import LogisticRegression, PoissonRegression"
   ]
  },
  {
   "cell_type": "code",
   "execution_count": 2,
   "id": "94158902",
   "metadata": {},
   "outputs": [
    {
     "name": "stdout",
     "output_type": "stream",
     "text": [
      "LinearRegression Results\n",
      "==============================\n",
      "coef: tensor([-0.1935,  0.0301, -1.3814, -0.3106,  0.9807])\n",
      "se: tensor([0.0097, 0.0082, 0.0124, 0.0111, 0.0123])\n",
      "==============================\n"
     ]
    }
   ],
   "source": [
    "torch.manual_seed(42)\n",
    "n, p = 100, 5\n",
    "X = torch.randn(n, p)\n",
    "true_coef = torch.randn(p)\n",
    "y = X @ true_coef + 0.1 * torch.randn(n)\n",
    "\n",
    "model = LinearRegression()\n",
    "model.fit(X, y, se=\"HC1\")\n",
    "\n",
    "model.summary()"
   ]
  },
  {
   "cell_type": "code",
   "execution_count": 3,
   "id": "fc8e82e4",
   "metadata": {},
   "outputs": [
    {
     "name": "stdout",
     "output_type": "stream",
     "text": [
      "Coefficients: tensor([ 1.4982, -0.7990,  0.2962], dtype=torch.float64)\n"
     ]
    }
   ],
   "source": [
    "# Panel data setup\n",
    "n_firms, n_years = 100, 10\n",
    "n_obs = n_firms * n_years\n",
    "\n",
    "# Generate data with firm and year effects\n",
    "X = torch.randn(n_obs, 3)\n",
    "firm_ids = torch.repeat_interleave(torch.arange(n_firms), n_years)\n",
    "year_ids = torch.tile(torch.arange(n_years), (n_firms,))\n",
    "\n",
    "# Add intercept\n",
    "\n",
    "# True coefficients and effects\n",
    "true_coef = torch.tensor([1.5, -0.8, 0.3])\n",
    "firm_effects = torch.randn(n_firms)[firm_ids]\n",
    "year_effects = torch.randn(n_years)[year_ids]\n",
    "\n",
    "y = X @ true_coef + firm_effects + year_effects + 0.1 * torch.randn(n_obs)\n",
    "\n",
    "# Fit with two-way fixed effects\n",
    "model = LinearRegression()\n",
    "model.fit(X, y, fe=[firm_ids, year_ids])\n",
    "print(f\"Coefficients: {model.params['coef']}\")"
   ]
  },
  {
   "cell_type": "markdown",
   "id": "2066bb9c",
   "metadata": {},
   "source": [
    "## logit"
   ]
  },
  {
   "cell_type": "code",
   "execution_count": 4,
   "id": "16b6f0f7",
   "metadata": {},
   "outputs": [
    {
     "name": "stdout",
     "output_type": "stream",
     "text": [
      "LogisticRegression Results\n",
      "==================================================\n",
      "Optimizer: LBFGS\n",
      "Optimization: 12/100 iterations\n",
      "Final Log-Likelihood: -2721.3655\n",
      "No. Observations: 5000\n",
      "\n",
      "==================================================\n",
      "Variable     Coef.      Std.Err.   t        P>|t|    [95.0%   Conf. Interval]\n",
      "----------------------------------------------------------------------\n",
      "const        0.4891     0.0336     14.553   0.000    0.423    0.555   \n",
      "x1           0.9586     0.0384     24.985   0.000    0.883    1.034   \n",
      "x2           -0.7783    0.0371     -20.954  0.000    -0.851   -0.706  \n",
      "x3           0.2916     0.0334     8.718    0.000    0.226    0.357   \n",
      "x4           0.1774     0.0329     5.398    0.000    0.113    0.242   \n",
      "==================================================\n"
     ]
    }
   ],
   "source": [
    "# Binary classification data\n",
    "n, p = 5_000, 4\n",
    "X = torch.randn(n, p)\n",
    "X_with_intercept = torch.cat([torch.ones(n, 1), X], dim=1)\n",
    "\n",
    "# Generate binary outcomes\n",
    "true_coef = torch.tensor([0.5, 1.0, -0.8, 0.3, 0.2])\n",
    "logits = X_with_intercept @ true_coef\n",
    "probs = torch.sigmoid(logits)\n",
    "y = torch.bernoulli(probs)\n",
    "\n",
    "# Fit logistic regression\n",
    "model = LogisticRegression(maxiter=100)\n",
    "model.fit(X_with_intercept, y)\n",
    "model.summary()"
   ]
  },
  {
   "cell_type": "code",
   "execution_count": 5,
   "id": "b0c5a4a9",
   "metadata": {},
   "outputs": [
    {
     "data": {
      "text/plain": [
       "(tensor([0, 1], dtype=torch.int32), tensor([1706, 3294]))"
      ]
     },
     "execution_count": 5,
     "metadata": {},
     "output_type": "execute_result"
    }
   ],
   "source": [
    "# Predictions\n",
    "y_pred_proba = model.predict_proba(X_with_intercept)\n",
    "y_pred = model.predict(X_with_intercept)\n",
    "torch.unique(y_pred, return_counts=True)"
   ]
  },
  {
   "cell_type": "markdown",
   "id": "192c8ab6",
   "metadata": {},
   "source": [
    "## poisson"
   ]
  },
  {
   "cell_type": "code",
   "execution_count": 6,
   "id": "f72f8834",
   "metadata": {},
   "outputs": [
    {
     "name": "stdout",
     "output_type": "stream",
     "text": [
      "PoissonRegression Results\n",
      "==================================================\n",
      "Optimizer: LBFGS\n",
      "Optimization: 12/50 iterations\n",
      "Final Log-Likelihood: 95.8605\n",
      "No. Observations: 200\n",
      "\n",
      "==================================================\n",
      "Variable     Coef.      Std.Err.   t        P>|t|    [95.0%   Conf. Interval]\n",
      "----------------------------------------------------------------------\n",
      "const        0.9723     0.0455     21.348   0.000    0.883    1.062   \n",
      "x1           0.4923     0.0455     10.821   0.000    0.403    0.581   \n",
      "x2           -0.3467    0.0447     -7.754   0.000    -0.434   -0.259  \n",
      "==================================================\n"
     ]
    }
   ],
   "source": [
    "torch.manual_seed(42)\n",
    "n, p = 200, 2\n",
    "X = torch.randn(n, p)\n",
    "X_with_intercept = torch.cat([torch.ones(n, 1), X], dim=1)\n",
    "true_coef = torch.tensor([1.0, 0.5, -0.3])\n",
    "\n",
    "# Generate Poisson counts\n",
    "linear_pred = X_with_intercept @ true_coef\n",
    "lambda_true = torch.exp(linear_pred)\n",
    "y = torch.poisson(lambda_true)\n",
    "\n",
    "model = PoissonRegression(maxiter=50)\n",
    "model.fit(X_with_intercept, y)\n",
    "model.summary()"
   ]
  }
 ],
 "metadata": {
  "kernelspec": {
   "display_name": ".venv",
   "language": "python",
   "name": "python3"
  },
  "language_info": {
   "codemirror_mode": {
    "name": "ipython",
    "version": 3
   },
   "file_extension": ".py",
   "mimetype": "text/x-python",
   "name": "python",
   "nbconvert_exporter": "python",
   "pygments_lexer": "ipython3",
   "version": "3.12.9"
  }
 },
 "nbformat": 4,
 "nbformat_minor": 5
}
