{
 "cells": [
  {
   "cell_type": "code",
   "execution_count": 1,
   "metadata": {},
   "outputs": [],
   "source": [
    "import numpy as np\n",
    "import statsmodels.api as sm\n",
    "import linearmodels as lm\n",
    "\n",
    "np.random.seed(94305)\n",
    "\n",
    "from torchonometrics.gmm import GMMEstimator  # noqa: E402"
   ]
  },
  {
   "cell_type": "markdown",
   "metadata": {},
   "source": [
    "Single endogeneous variable and single instrument DGP with varying instrument strength ($\\pi$) and degree of endogeneity($\\rho$).\n"
   ]
  },
  {
   "cell_type": "code",
   "execution_count": 2,
   "metadata": {},
   "outputs": [],
   "source": [
    "def dgp(n = 100_000,\n",
    "        beta = np.array([-0.5, 1.2]),\n",
    "        rho = 0.7,\n",
    "        pi = np.array([0.5, -0.1])):\n",
    "    ε = np.random.normal(0, 1, n)\n",
    "    z = np.random.normal(0, 1, n * pi.shape[0]).reshape(n, pi.shape[0])\n",
    "    # Generate endogenous x, influenced by the instrument\n",
    "    x = z @ pi + ε * rho + np.random.normal(0, 1, n)\n",
    "    X = np.c_[np.ones(n), x]\n",
    "    # heteroskedasticity\n",
    "    y = X @ beta + ε + (X[:, 1] > 0) * np.random.normal(0, 1, n)\n",
    "    return y, X, z"
   ]
  },
  {
   "cell_type": "markdown",
   "metadata": {},
   "source": [
    "# No Endogeneity \n",
    "\n",
    "OLS and IV with X as its own instrument should produce the same estimates."
   ]
  },
  {
   "cell_type": "code",
   "execution_count": 3,
   "metadata": {},
   "outputs": [
    {
     "name": "stdout",
     "output_type": "stream",
     "text": [
      "==============================================================================\n",
      "                 coef    std err          z      P>|z|      [0.025      0.975]\n",
      "------------------------------------------------------------------------------\n",
      "const         -0.4994      0.004   -128.506      0.000      -0.507      -0.492\n",
      "x1             1.1953      0.004    308.588      0.000       1.188       1.203\n",
      "==============================================================================\n"
     ]
    }
   ],
   "source": [
    "y, X, z = dgp(pi = np.array([0]), rho = 0)\n",
    "print(sm.OLS(y, X).fit(cov_type = \"HC2\").summary().tables[1])"
   ]
  },
  {
   "cell_type": "markdown",
   "metadata": {},
   "source": [
    "### GMM using Scipy Minimization"
   ]
  },
  {
   "cell_type": "code",
   "execution_count": 4,
   "metadata": {},
   "outputs": [
    {
     "name": "stdout",
     "output_type": "stream",
     "text": [
      "CPU times: user 81.6 ms, sys: 11.5 ms, total: 93.1 ms\n",
      "Wall time: 92.1 ms\n"
     ]
    },
    {
     "data": {
      "text/html": [
       "<div>\n",
       "<style scoped>\n",
       "    .dataframe tbody tr th:only-of-type {\n",
       "        vertical-align: middle;\n",
       "    }\n",
       "\n",
       "    .dataframe tbody tr th {\n",
       "        vertical-align: top;\n",
       "    }\n",
       "\n",
       "    .dataframe thead th {\n",
       "        text-align: right;\n",
       "    }\n",
       "</style>\n",
       "<table border=\"1\" class=\"dataframe\">\n",
       "  <thead>\n",
       "    <tr style=\"text-align: right;\">\n",
       "      <th></th>\n",
       "      <th>coef</th>\n",
       "      <th>std err</th>\n",
       "      <th>t</th>\n",
       "      <th>p-value</th>\n",
       "      <th>[0.025</th>\n",
       "      <th>0.975]</th>\n",
       "    </tr>\n",
       "  </thead>\n",
       "  <tbody>\n",
       "    <tr>\n",
       "      <th>0</th>\n",
       "      <td>-0.4994</td>\n",
       "      <td>0.0039</td>\n",
       "      <td>-128.5068</td>\n",
       "      <td>0.0</td>\n",
       "      <td>-0.5070</td>\n",
       "      <td>-0.4918</td>\n",
       "    </tr>\n",
       "    <tr>\n",
       "      <th>1</th>\n",
       "      <td>1.1953</td>\n",
       "      <td>0.0039</td>\n",
       "      <td>308.5945</td>\n",
       "      <td>0.0</td>\n",
       "      <td>1.1877</td>\n",
       "      <td>1.2029</td>\n",
       "    </tr>\n",
       "  </tbody>\n",
       "</table>\n",
       "</div>"
      ],
      "text/plain": [
       "     coef  std err         t  p-value  [0.025  0.975]\n",
       "0 -0.4994   0.0039 -128.5068      0.0 -0.5070 -0.4918\n",
       "1  1.1953   0.0039  308.5945      0.0  1.1877  1.2029"
      ]
     },
     "execution_count": 4,
     "metadata": {},
     "output_type": "execute_result"
    }
   ],
   "source": [
    "%%time\n",
    "ψ = lambda z, y, x, beta: z * (y - x @ beta)[:, np.newaxis]\n",
    "gmm_scipy = GMMEstimator(ψ)\n",
    "gmm_scipy.fit(np.c_[np.ones(z.shape[0]), X[:, 1]], y, X)\n",
    "gmm_scipy.summary()"
   ]
  },
  {
   "cell_type": "markdown",
   "metadata": {},
   "source": [
    "### GMM using Torch Minimization"
   ]
  },
  {
   "cell_type": "code",
   "execution_count": 5,
   "metadata": {},
   "outputs": [
    {
     "name": "stdout",
     "output_type": "stream",
     "text": [
      "CPU times: user 391 ms, sys: 97 ms, total: 488 ms\n",
      "Wall time: 673 ms\n"
     ]
    },
    {
     "data": {
      "text/html": [
       "<div>\n",
       "<style scoped>\n",
       "    .dataframe tbody tr th:only-of-type {\n",
       "        vertical-align: middle;\n",
       "    }\n",
       "\n",
       "    .dataframe tbody tr th {\n",
       "        vertical-align: top;\n",
       "    }\n",
       "\n",
       "    .dataframe thead th {\n",
       "        text-align: right;\n",
       "    }\n",
       "</style>\n",
       "<table border=\"1\" class=\"dataframe\">\n",
       "  <thead>\n",
       "    <tr style=\"text-align: right;\">\n",
       "      <th></th>\n",
       "      <th>coef</th>\n",
       "      <th>std err</th>\n",
       "      <th>t</th>\n",
       "      <th>p-value</th>\n",
       "      <th>[0.025</th>\n",
       "      <th>0.975]</th>\n",
       "    </tr>\n",
       "  </thead>\n",
       "  <tbody>\n",
       "    <tr>\n",
       "      <th>0</th>\n",
       "      <td>-0.4994</td>\n",
       "      <td>0.0039</td>\n",
       "      <td>-128.5069</td>\n",
       "      <td>0.0</td>\n",
       "      <td>-0.5070</td>\n",
       "      <td>-0.4918</td>\n",
       "    </tr>\n",
       "    <tr>\n",
       "      <th>1</th>\n",
       "      <td>1.1953</td>\n",
       "      <td>0.0039</td>\n",
       "      <td>308.5946</td>\n",
       "      <td>0.0</td>\n",
       "      <td>1.1877</td>\n",
       "      <td>1.2029</td>\n",
       "    </tr>\n",
       "  </tbody>\n",
       "</table>\n",
       "</div>"
      ],
      "text/plain": [
       "     coef  std err         t  p-value  [0.025  0.975]\n",
       "0 -0.4994   0.0039 -128.5069      0.0 -0.5070 -0.4918\n",
       "1  1.1953   0.0039  308.5946      0.0  1.1877  1.2029"
      ]
     },
     "execution_count": 5,
     "metadata": {},
     "output_type": "execute_result"
    }
   ],
   "source": [
    "%%time\n",
    "def moment_cond(z, y, x, beta):\n",
    "    residuals = (y - x @ beta).unsqueeze(-1)\n",
    "    return z * residuals\n",
    "\n",
    "gmm = GMMEstimator(moment_cond, backend  = \"torch\")\n",
    "gmm.fit(np.c_[np.ones(z.shape[0]), X[:, 1]], y, X)\n",
    "gmm.summary()"
   ]
  },
  {
   "cell_type": "markdown",
   "metadata": {},
   "source": [
    "Faster optimizer (default argument is limited-memory BFGS, but BFGS works faster for small problems)"
   ]
  },
  {
   "cell_type": "code",
   "execution_count": 6,
   "metadata": {},
   "outputs": [
    {
     "name": "stdout",
     "output_type": "stream",
     "text": [
      "CPU times: user 65.5 ms, sys: 33.4 ms, total: 98.9 ms\n",
      "Wall time: 67.1 ms\n"
     ]
    },
    {
     "data": {
      "text/html": [
       "<div>\n",
       "<style scoped>\n",
       "    .dataframe tbody tr th:only-of-type {\n",
       "        vertical-align: middle;\n",
       "    }\n",
       "\n",
       "    .dataframe tbody tr th {\n",
       "        vertical-align: top;\n",
       "    }\n",
       "\n",
       "    .dataframe thead th {\n",
       "        text-align: right;\n",
       "    }\n",
       "</style>\n",
       "<table border=\"1\" class=\"dataframe\">\n",
       "  <thead>\n",
       "    <tr style=\"text-align: right;\">\n",
       "      <th></th>\n",
       "      <th>coef</th>\n",
       "      <th>std err</th>\n",
       "      <th>t</th>\n",
       "      <th>p-value</th>\n",
       "      <th>[0.025</th>\n",
       "      <th>0.975]</th>\n",
       "    </tr>\n",
       "  </thead>\n",
       "  <tbody>\n",
       "    <tr>\n",
       "      <th>0</th>\n",
       "      <td>-0.4994</td>\n",
       "      <td>0.0039</td>\n",
       "      <td>-128.5068</td>\n",
       "      <td>0.0</td>\n",
       "      <td>-0.5070</td>\n",
       "      <td>-0.4918</td>\n",
       "    </tr>\n",
       "    <tr>\n",
       "      <th>1</th>\n",
       "      <td>1.1953</td>\n",
       "      <td>0.0039</td>\n",
       "      <td>308.5945</td>\n",
       "      <td>0.0</td>\n",
       "      <td>1.1877</td>\n",
       "      <td>1.2029</td>\n",
       "    </tr>\n",
       "  </tbody>\n",
       "</table>\n",
       "</div>"
      ],
      "text/plain": [
       "     coef  std err         t  p-value  [0.025  0.975]\n",
       "0 -0.4994   0.0039 -128.5068      0.0 -0.5070 -0.4918\n",
       "1  1.1953   0.0039  308.5945      0.0  1.1877  1.2029"
      ]
     },
     "execution_count": 6,
     "metadata": {},
     "output_type": "execute_result"
    }
   ],
   "source": [
    "%%time\n",
    "def moment_cond(z, y, x, beta):\n",
    "    residuals = (y - x @ beta).unsqueeze(-1)\n",
    "    return z * residuals\n",
    "\n",
    "gmm = GMMEstimator(moment_cond, backend = \"torch\")\n",
    "gmm.fit(np.c_[np.ones(z.shape[0]), X[:, 1]], y, X, fit_method='bfgs')\n",
    "gmm.summary()"
   ]
  },
  {
   "cell_type": "markdown",
   "metadata": {},
   "source": [
    "Identical estimates and standard errors."
   ]
  },
  {
   "cell_type": "markdown",
   "metadata": {},
   "source": [
    "# With Endogeneity \n",
    "\n",
    "Over-identified: 2 instruments and 1 endogenous variable.\n",
    "\n",
    "OLS is inconsistent. Also confirm `GMMEstimator` returns the same answer as IV2SLS."
   ]
  },
  {
   "cell_type": "code",
   "execution_count": 7,
   "metadata": {},
   "outputs": [
    {
     "name": "stdout",
     "output_type": "stream",
     "text": [
      "==============================================================================\n",
      "                 coef    std err          t      P>|t|      [0.025      0.975]\n",
      "------------------------------------------------------------------------------\n",
      "const         -0.4981      0.003   -143.251      0.000      -0.505      -0.491\n",
      "x1             1.5971      0.003    608.599      0.000       1.592       1.602\n",
      "==============================================================================\n"
     ]
    }
   ],
   "source": [
    "y, X, z = dgp()\n",
    "print(sm.OLS(y, X).fit().summary().tables[1])"
   ]
  },
  {
   "cell_type": "code",
   "execution_count": 8,
   "metadata": {},
   "outputs": [
    {
     "name": "stdout",
     "output_type": "stream",
     "text": [
      "CPU times: user 101 ms, sys: 14.5 ms, total: 116 ms\n",
      "Wall time: 113 ms\n"
     ]
    },
    {
     "data": {
      "text/html": [
       "<div>\n",
       "<style scoped>\n",
       "    .dataframe tbody tr th:only-of-type {\n",
       "        vertical-align: middle;\n",
       "    }\n",
       "\n",
       "    .dataframe tbody tr th {\n",
       "        vertical-align: top;\n",
       "    }\n",
       "\n",
       "    .dataframe thead th {\n",
       "        text-align: right;\n",
       "    }\n",
       "</style>\n",
       "<table border=\"1\" class=\"dataframe\">\n",
       "  <thead>\n",
       "    <tr style=\"text-align: right;\">\n",
       "      <th></th>\n",
       "      <th>coef</th>\n",
       "      <th>std err</th>\n",
       "      <th>t</th>\n",
       "      <th>p-value</th>\n",
       "      <th>[0.025</th>\n",
       "      <th>0.975]</th>\n",
       "    </tr>\n",
       "  </thead>\n",
       "  <tbody>\n",
       "    <tr>\n",
       "      <th>0</th>\n",
       "      <td>-0.4983</td>\n",
       "      <td>0.0039</td>\n",
       "      <td>-129.0528</td>\n",
       "      <td>0.0</td>\n",
       "      <td>-0.5059</td>\n",
       "      <td>-0.4908</td>\n",
       "    </tr>\n",
       "    <tr>\n",
       "      <th>1</th>\n",
       "      <td>1.1964</td>\n",
       "      <td>0.0076</td>\n",
       "      <td>157.7119</td>\n",
       "      <td>0.0</td>\n",
       "      <td>1.1815</td>\n",
       "      <td>1.2113</td>\n",
       "    </tr>\n",
       "  </tbody>\n",
       "</table>\n",
       "</div>"
      ],
      "text/plain": [
       "     coef  std err         t  p-value  [0.025  0.975]\n",
       "0 -0.4983   0.0039 -129.0528      0.0 -0.5059 -0.4908\n",
       "1  1.1964   0.0076  157.7119      0.0  1.1815  1.2113"
      ]
     },
     "execution_count": 8,
     "metadata": {},
     "output_type": "execute_result"
    }
   ],
   "source": [
    "%%time\n",
    "ψ = lambda z, y, x, beta: z * (y - x @ beta)[:, np.newaxis]\n",
    "gmm = GMMEstimator(ψ)\n",
    "gmm.fit(np.c_[np.ones(z.shape[0]), z], y, X)\n",
    "gmm.summary()"
   ]
  },
  {
   "cell_type": "code",
   "execution_count": 9,
   "metadata": {},
   "outputs": [
    {
     "name": "stdout",
     "output_type": "stream",
     "text": [
      "CPU times: user 80.7 ms, sys: 26.7 ms, total: 107 ms\n",
      "Wall time: 73.3 ms\n"
     ]
    },
    {
     "data": {
      "text/html": [
       "<div>\n",
       "<style scoped>\n",
       "    .dataframe tbody tr th:only-of-type {\n",
       "        vertical-align: middle;\n",
       "    }\n",
       "\n",
       "    .dataframe tbody tr th {\n",
       "        vertical-align: top;\n",
       "    }\n",
       "\n",
       "    .dataframe thead th {\n",
       "        text-align: right;\n",
       "    }\n",
       "</style>\n",
       "<table border=\"1\" class=\"dataframe\">\n",
       "  <thead>\n",
       "    <tr style=\"text-align: right;\">\n",
       "      <th></th>\n",
       "      <th>coef</th>\n",
       "      <th>std err</th>\n",
       "      <th>t</th>\n",
       "      <th>p-value</th>\n",
       "      <th>[0.025</th>\n",
       "      <th>0.975]</th>\n",
       "    </tr>\n",
       "  </thead>\n",
       "  <tbody>\n",
       "    <tr>\n",
       "      <th>0</th>\n",
       "      <td>-0.4983</td>\n",
       "      <td>0.0039</td>\n",
       "      <td>-129.0516</td>\n",
       "      <td>0.0</td>\n",
       "      <td>-0.5059</td>\n",
       "      <td>-0.4907</td>\n",
       "    </tr>\n",
       "    <tr>\n",
       "      <th>1</th>\n",
       "      <td>1.1964</td>\n",
       "      <td>0.0076</td>\n",
       "      <td>157.7132</td>\n",
       "      <td>0.0</td>\n",
       "      <td>1.1815</td>\n",
       "      <td>1.2113</td>\n",
       "    </tr>\n",
       "  </tbody>\n",
       "</table>\n",
       "</div>"
      ],
      "text/plain": [
       "     coef  std err         t  p-value  [0.025  0.975]\n",
       "0 -0.4983   0.0039 -129.0516      0.0 -0.5059 -0.4907\n",
       "1  1.1964   0.0076  157.7132      0.0  1.1815  1.2113"
      ]
     },
     "execution_count": 9,
     "metadata": {},
     "output_type": "execute_result"
    }
   ],
   "source": [
    "%%time\n",
    "def moment_cond(z, y, x, beta):\n",
    "    residuals = (y - x @ beta).unsqueeze(-1)\n",
    "    return z * residuals\n",
    "\n",
    "gmm = GMMEstimator(moment_cond, backend = \"torch\")\n",
    "gmm.fit(np.c_[np.ones(z.shape[0]), z], y, X)\n",
    "gmm.summary()"
   ]
  },
  {
   "cell_type": "markdown",
   "metadata": {},
   "source": [
    "Faster optimizer in torch"
   ]
  },
  {
   "cell_type": "code",
   "execution_count": 10,
   "metadata": {},
   "outputs": [
    {
     "name": "stdout",
     "output_type": "stream",
     "text": [
      "CPU times: user 95.1 ms, sys: 30.1 ms, total: 125 ms\n",
      "Wall time: 87.3 ms\n"
     ]
    },
    {
     "data": {
      "text/html": [
       "<div>\n",
       "<style scoped>\n",
       "    .dataframe tbody tr th:only-of-type {\n",
       "        vertical-align: middle;\n",
       "    }\n",
       "\n",
       "    .dataframe tbody tr th {\n",
       "        vertical-align: top;\n",
       "    }\n",
       "\n",
       "    .dataframe thead th {\n",
       "        text-align: right;\n",
       "    }\n",
       "</style>\n",
       "<table border=\"1\" class=\"dataframe\">\n",
       "  <thead>\n",
       "    <tr style=\"text-align: right;\">\n",
       "      <th></th>\n",
       "      <th>coef</th>\n",
       "      <th>std err</th>\n",
       "      <th>t</th>\n",
       "      <th>p-value</th>\n",
       "      <th>[0.025</th>\n",
       "      <th>0.975]</th>\n",
       "    </tr>\n",
       "  </thead>\n",
       "  <tbody>\n",
       "    <tr>\n",
       "      <th>0</th>\n",
       "      <td>-0.4983</td>\n",
       "      <td>0.0039</td>\n",
       "      <td>-129.0435</td>\n",
       "      <td>0.0</td>\n",
       "      <td>-0.5058</td>\n",
       "      <td>-0.4907</td>\n",
       "    </tr>\n",
       "    <tr>\n",
       "      <th>1</th>\n",
       "      <td>1.1964</td>\n",
       "      <td>0.0076</td>\n",
       "      <td>157.7158</td>\n",
       "      <td>0.0</td>\n",
       "      <td>1.1816</td>\n",
       "      <td>1.2113</td>\n",
       "    </tr>\n",
       "  </tbody>\n",
       "</table>\n",
       "</div>"
      ],
      "text/plain": [
       "     coef  std err         t  p-value  [0.025  0.975]\n",
       "0 -0.4983   0.0039 -129.0435      0.0 -0.5058 -0.4907\n",
       "1  1.1964   0.0076  157.7158      0.0  1.1816  1.2113"
      ]
     },
     "execution_count": 10,
     "metadata": {},
     "output_type": "execute_result"
    }
   ],
   "source": [
    "%%time\n",
    "def moment_cond(z, y, x, beta):\n",
    "    residuals = (y - x @ beta).unsqueeze(-1)\n",
    "    return z * residuals\n",
    "\n",
    "gmm = GMMEstimator(moment_cond, backend = \"torch\")\n",
    "gmm.fit(np.c_[np.ones(z.shape[0]), z], y, X, fit_method='bfgs')\n",
    "gmm.summary()"
   ]
  },
  {
   "cell_type": "markdown",
   "metadata": {},
   "source": [
    "Confirm with linearmodels"
   ]
  },
  {
   "cell_type": "code",
   "execution_count": 11,
   "metadata": {},
   "outputs": [
    {
     "name": "stderr",
     "output_type": "stream",
     "text": [
      "/Users/alal/Desktop/code/torchonometrics/.venv/lib/python3.12/site-packages/linearmodels/shared/linalg.py:64: RuntimeWarning: divide by zero encountered in divide\n",
      "  return vecs @ np.diag(1 / np.sqrt(vals)) @ vecs.T\n"
     ]
    },
    {
     "data": {
      "text/html": [
       "<table class=\"simpletable\">\n",
       "<caption>Parameter Estimates</caption>\n",
       "<tr>\n",
       "     <td></td>     <th>Parameter</th> <th>Std. Err.</th> <th>T-stat</th>  <th>P-value</th> <th>Lower CI</th> <th>Upper CI</th>\n",
       "</tr>\n",
       "<tr>\n",
       "  <th>endog.0</th>  <td>-0.4983</td>   <td>0.0039</td>   <td>-129.06</td> <td>0.0000</td>   <td>-0.5059</td>  <td>-0.4907</td>\n",
       "</tr>\n",
       "<tr>\n",
       "  <th>endog.1</th>  <td>1.1965</td>    <td>0.0076</td>   <td>157.72</td>  <td>0.0000</td>   <td>1.1816</td>   <td>1.2113</td> \n",
       "</tr>\n",
       "</table>"
      ],
      "text/latex": [
       "\\begin{center}\n",
       "\\begin{tabular}{lcccccc}\n",
       "\\toprule\n",
       "                 & \\textbf{Parameter} & \\textbf{Std. Err.} & \\textbf{T-stat} & \\textbf{P-value} & \\textbf{Lower CI} & \\textbf{Upper CI}  \\\\\n",
       "\\midrule\n",
       "\\textbf{endog.0} &      -0.4983       &       0.0039       &     -129.06     &      0.0000      &      -0.5059      &      -0.4907       \\\\\n",
       "\\textbf{endog.1} &       1.1965       &       0.0076       &      157.72     &      0.0000      &       1.1816      &       1.2113       \\\\\n",
       "\\bottomrule\n",
       "\\end{tabular}\n",
       "%\\caption{Parameter Estimates}\n",
       "\\end{center}"
      ],
      "text/plain": [
       "<class 'statsmodels.iolib.table.SimpleTable'>"
      ]
     },
     "execution_count": 11,
     "metadata": {},
     "output_type": "execute_result"
    }
   ],
   "source": [
    "lm.iv.model.IV2SLS(y, None, X, np.c_[np.ones(z.shape[0]), z]).fit().summary.tables[1]"
   ]
  },
  {
   "cell_type": "markdown",
   "metadata": {},
   "source": [
    "Identical estimates and standard errors."
   ]
  }
 ],
 "metadata": {
  "kernelspec": {
   "display_name": ".venv",
   "language": "python",
   "name": "python3"
  },
  "language_info": {
   "codemirror_mode": {
    "name": "ipython",
    "version": 3
   },
   "file_extension": ".py",
   "mimetype": "text/x-python",
   "name": "python",
   "nbconvert_exporter": "python",
   "pygments_lexer": "ipython3",
   "version": "3.12.9"
  }
 },
 "nbformat": 4,
 "nbformat_minor": 2
}
