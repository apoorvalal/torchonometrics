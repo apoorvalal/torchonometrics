{
 "cells": [
  {
   "cell_type": "markdown",
   "id": "112400be",
   "metadata": {},
   "source": [
    "Using LowRankLogit for Assortment Optimization\n",
    "\n",
    "This example demonstrates how the low-rank MMNL model avoids IIA problems\n",
    "and enables rich counterfactual analysis for revenue management."
   ]
  },
  {
   "cell_type": "code",
   "execution_count": 1,
   "id": "f7862162",
   "metadata": {},
   "outputs": [],
   "source": [
    "import torch\n",
    "from torchonometrics.choice import LowRankLogit"
   ]
  },
  {
   "cell_type": "code",
   "execution_count": 2,
   "id": "0a35fb12",
   "metadata": {},
   "outputs": [],
   "source": [
    "# Simulate data: 100 users, 20 products, rank-3 preference structure\n",
    "n_users = 100\n",
    "n_items = 20\n",
    "rank = 3\n",
    "n_samples = n_users * 50\n",
    "\n",
    "# Generate heterogeneous user preferences (low-rank structure)\n",
    "torch.manual_seed(42)\n",
    "true_A = torch.randn(n_users, rank)\n",
    "true_B = torch.randn(n_items, rank)\n",
    "true_theta = true_A @ true_B.T\n",
    "true_theta = true_theta - true_theta.mean(dim=1, keepdim=True)\n",
    "\n",
    "# Generate training data with varying assortments\n",
    "user_indices = torch.randint(0, n_users, (n_samples,))\n",
    "assortments = torch.zeros(n_samples, n_items)\n",
    "for i in range(n_samples):\n",
    "    # Each user sees random subset of 10 products\n",
    "    available = torch.randperm(n_items)[:10]\n",
    "    assortments[i, available] = 1\n",
    "\n",
    "# Generate choices\n",
    "item_indices = torch.zeros(n_samples, dtype=torch.long)\n",
    "for i in range(n_samples):\n",
    "    user = user_indices[i]\n",
    "    available = assortments[i].bool()\n",
    "    utilities = true_theta[user, available]\n",
    "    probs = torch.nn.functional.softmax(utilities, dim=0)\n",
    "    available_items = torch.where(available)[0]\n",
    "    chosen_idx = torch.multinomial(probs, 1).item()\n",
    "    item_indices[i] = available_items[chosen_idx]"
   ]
  },
  {
   "cell_type": "markdown",
   "id": "2f4438de",
   "metadata": {},
   "source": [
    "### model fits"
   ]
  },
  {
   "cell_type": "code",
   "execution_count": 3,
   "id": "73bbf9b6",
   "metadata": {},
   "outputs": [
    {
     "name": "stdout",
     "output_type": "stream",
     "text": [
      "Fitting low-rank logit model...\n",
      "Convergence tolerance 0.0001 met at iteration 11.\n",
      "Model converged in 12 iterations\n",
      "\n"
     ]
    }
   ],
   "source": [
    "\n",
    "# Fit the model\n",
    "print(\"Fitting low-rank logit model...\")\n",
    "model = LowRankLogit(rank=rank, n_users=n_users, n_items=n_items, lam=0.01)\n",
    "model.fit(user_indices, item_indices, assortments, verbose=True)\n",
    "print(f\"Model converged in {model.iterations_run} iterations\\n\")"
   ]
  },
  {
   "cell_type": "code",
   "execution_count": 4,
   "id": "cc5ad8a8",
   "metadata": {},
   "outputs": [
    {
     "name": "stdout",
     "output_type": "stream",
     "text": [
      "SCENARIO 1: Adding a premium product to the assortment\n",
      "\n",
      "Product 15 market share: 8.62%\n",
      "Revenue change: $129.30 (12.93%)\n",
      "\n",
      "Top 3 products losing market share:\n",
      "  Product 0: -3.05%\n",
      "  Product 3: -1.41%\n",
      "  Product 14: -0.67%\n"
     ]
    }
   ],
   "source": [
    "# === Counterfactual Analysis 1: Product Line Extension ===\n",
    "print(\"SCENARIO 1: Adding a premium product to the assortment\")\n",
    "# Current assortment: products 0-14 (standard line)\n",
    "# Counterfactual: add product 15 (premium product)\n",
    "test_users = torch.arange(n_users)\n",
    "baseline = torch.zeros(n_users, n_items)\n",
    "baseline[:, :15] = 1  # Current 15 products\n",
    "\n",
    "counterfactual = baseline.clone()\n",
    "counterfactual[:, 15] = 1  # Add premium product 15\n",
    "\n",
    "# Assume premium product has higher revenue\n",
    "item_revenues = torch.ones(n_items) * 10.0  # Standard products: $10\n",
    "item_revenues[15] = 25.0  # Premium product: $25\n",
    "\n",
    "results = model.counterfactual(\n",
    "    test_users, baseline, counterfactual, item_revenues\n",
    ")\n",
    "\n",
    "print(f\"\\nProduct 15 market share: {results['counterfactual_market_share'][15]:.2%}\")\n",
    "print(f\"Revenue change: ${results['revenue_change']:.2f} ({results['revenue_change_pct']:.2%})\")\n",
    "print(\"\\nTop 3 products losing market share:\")\n",
    "losers = torch.argsort(results['market_share_change'])[:3]\n",
    "for idx in losers:\n",
    "    print(f\"  Product {idx.item()}: {results['market_share_change'][idx]:.2%}\")"
   ]
  },
  {
   "cell_type": "code",
   "execution_count": 6,
   "id": "bea162c8",
   "metadata": {},
   "outputs": [
    {
     "name": "stdout",
     "output_type": "stream",
     "text": [
      "\n",
      "============================================================\n",
      "SCENARIO 2: Removing low-margin products\n",
      "============================================================\n",
      "\n",
      "Revenue change: $193.75 (14.83%)\n",
      "\n",
      "Top 3 products gaining market share:\n",
      "  Product 4: 2.13%\n",
      "  Product 2: 1.87%\n",
      "  Product 14: 1.84%\n"
     ]
    }
   ],
   "source": [
    "# === Counterfactual Analysis 2: Removing Low-Margin Products ===\n",
    "print(\"\\n\" + \"=\" * 60)\n",
    "print(\"SCENARIO 2: Removing low-margin products\")\n",
    "print(\"=\" * 60)\n",
    "\n",
    "# Current: all 20 products\n",
    "# Counterfactual: remove products 16-19 (low-margin)\n",
    "baseline_full = torch.ones(n_users, n_items)\n",
    "counterfactual_trim = baseline_full.clone()\n",
    "counterfactual_trim[:, 16:20] = 0\n",
    "\n",
    "# Low-margin products have lower revenue\n",
    "item_revenues_margin = torch.ones(n_items) * 15.0  # Standard: $15\n",
    "item_revenues_margin[16:20] = 5.0  # Low-margin: $5\n",
    "\n",
    "results2 = model.counterfactual(\n",
    "    test_users, baseline_full, counterfactual_trim, item_revenues_margin\n",
    ")\n",
    "\n",
    "print(f\"\\nRevenue change: ${results2['revenue_change']:.2f} ({results2['revenue_change_pct']:.2%})\")\n",
    "print(\"\\nTop 3 products gaining market share:\")\n",
    "gainers = torch.argsort(results2['market_share_change'], descending=True)[:3]\n",
    "for idx in gainers:\n",
    "    if idx < 16:  # Exclude removed products\n",
    "        print(f\"  Product {idx.item()}: {results2['market_share_change'][idx]:.2%}\")"
   ]
  },
  {
   "cell_type": "code",
   "execution_count": 7,
   "id": "5d98546c",
   "metadata": {},
   "outputs": [
    {
     "name": "stdout",
     "output_type": "stream",
     "text": [
      "SCENARIO 3: Heterogeneous substitution patterns\n",
      "\n",
      "When product 5 is removed, different users substitute differently:\n",
      "(This demonstrates the model avoids IIA - standard MNL would show identical substitution)\n",
      "  User 0: still chooses product 15\n",
      "  User 1: still chooses product 4\n",
      "  User 2: still chooses product 16\n",
      "  User 3: still chooses product 14\n",
      "  User 4: still chooses product 4\n",
      "\n",
      "============================================================\n",
      "Key insight: The low-rank structure captures heterogeneous preferences,\n",
      "allowing flexible substitution patterns that avoid the IIA problem.\n",
      "============================================================\n"
     ]
    }
   ],
   "source": [
    "# === Counterfactual Analysis 3: User Heterogeneity (No IIA!) ===\n",
    "print(\"SCENARIO 3: Heterogeneous substitution patterns\")\n",
    "\n",
    "# Look at how different user types respond to removing product 5\n",
    "specific_users = torch.tensor([0, 1, 2, 3, 4])  # 5 different users\n",
    "baseline_single = torch.ones(5, n_items)\n",
    "counterfactual_single = baseline_single.clone()\n",
    "counterfactual_single[:, 5] = 0  # Remove product 5\n",
    "\n",
    "results3 = model.counterfactual(specific_users, baseline_single, counterfactual_single)\n",
    "\n",
    "print(\"\\nWhen product 5 is removed, different users substitute differently:\")\n",
    "print(\"(This demonstrates the model avoids IIA - standard MNL would show identical substitution)\")\n",
    "for u in range(5):\n",
    "    baseline_choice = results3['baseline_choices'][u].item()\n",
    "    cf_choice = results3['counterfactual_choices'][u].item()\n",
    "\n",
    "    if baseline_choice == 5:\n",
    "        print(f\"  User {u}: was choosing product 5, now chooses product {cf_choice}\")\n",
    "    else:\n",
    "        print(f\"  User {u}: still chooses product {baseline_choice}\")\n",
    "\n",
    "print(\"\\n\" + \"=\" * 60)\n",
    "print(\"Key insight: The low-rank structure captures heterogeneous preferences,\")\n",
    "print(\"allowing flexible substitution patterns that avoid the IIA problem.\")\n",
    "print(\"=\" * 60)\n"
   ]
  }
 ],
 "metadata": {
  "kernelspec": {
   "display_name": ".venv",
   "language": "python",
   "name": "python3"
  },
  "language_info": {
   "codemirror_mode": {
    "name": "ipython",
    "version": 3
   },
   "file_extension": ".py",
   "mimetype": "text/x-python",
   "name": "python",
   "nbconvert_exporter": "python",
   "pygments_lexer": "ipython3",
   "version": "3.12.9"
  }
 },
 "nbformat": 4,
 "nbformat_minor": 5
}
